{
  "nbformat": 4,
  "nbformat_minor": 0,
  "metadata": {
    "colab": {
      "provenance": []
    },
    "kernelspec": {
      "name": "python3",
      "display_name": "Python 3"
    },
    "language_info": {
      "name": "python"
    }
  },
  "cells": [
    {
      "cell_type": "code",
      "source": [
        "# Python 3.x code to demonstrate star pattern\n",
        "\n",
        "# Function to demonstrate printing pattern triangle\n",
        "def triangle(n):\n",
        "\n",
        "\t# number of spaces\n",
        "\tk = n - 1\n",
        "\n",
        "\t# outer loop to handle number of rows\n",
        "\tfor i in range(0, n):\n",
        "\n",
        "\t\t# inner loop to handle number spaces\n",
        "\t\t# values changing acc. to requirement\n",
        "\t\tfor j in range(0, k):\n",
        "\t\t\tprint(end=\" \")\n",
        "\n",
        "\t\t# decrementing k after each loop\n",
        "\t\tk = k - 1\n",
        "\n",
        "\t\t# inner loop to handle number of columns\n",
        "\t\t# values changing acc. to outer loop\n",
        "\t\tfor j in range(0, i+1):\n",
        "\n",
        "\t\t\t# printing stars\n",
        "\t\t\tprint(\"* \", end=\"\")\n",
        "\n",
        "\t\t# ending line after each row\n",
        "\t\tprint(\"\\r\")\n",
        "\n",
        "# Driver Code\n",
        "n = 5\n",
        "triangle(n)\n"
      ],
      "metadata": {
        "colab": {
          "base_uri": "https://localhost:8080/"
        },
        "id": "-QGfeutifoWf",
        "outputId": "5fcfe2df-de23-4ccc-ec5f-540e9645a491"
      },
      "execution_count": null,
      "outputs": [
        {
          "output_type": "stream",
          "name": "stdout",
          "text": [
            "    * \r\n",
            "   * * \r\n",
            "  * * * \r\n",
            " * * * * \r\n",
            "* * * * * \r\n"
          ]
        }
      ]
    },
    {
      "cell_type": "code",
      "source": [
        "# Python 3.x code to demonstrate star pattern\n",
        "\n",
        "# Function to demonstrate printing pattern of numbers\n",
        "def numpat(n):\n",
        "\n",
        "\t# initialising starting number\n",
        "\tnum = 1\n",
        "\n",
        "\t# outer loop to handle number of rows\n",
        "\tfor i in range(0, n):\n",
        "\n",
        "\t\t# re assigning num\n",
        "\t\tnum = 1\n",
        "\n",
        "\t\t# inner loop to handle number of columns\n",
        "\t\t\t# values changing acc. to outer loop\n",
        "\t\tfor j in range(0, i+1):\n",
        "\n",
        "\t\t\t\t# printing number\n",
        "\t\t\tprint(num, end=\" \")\n",
        "\n",
        "\t\t\t# incrementing number at each column\n",
        "\t\t\tnum = num + 1\n",
        "\n",
        "\t\t# ending line after each row\n",
        "\t\tprint(\"\\r\")\n",
        "\n",
        "# Driver code\n",
        "n = 5\n",
        "numpat(n)\n"
      ],
      "metadata": {
        "colab": {
          "base_uri": "https://localhost:8080/"
        },
        "id": "prc6GL_rh0iM",
        "outputId": "c95ca9c8-7dd3-41ba-d879-908c8dcefd67"
      },
      "execution_count": null,
      "outputs": [
        {
          "output_type": "stream",
          "name": "stdout",
          "text": [
            "1 \r\n",
            "1 2 \r\n",
            "1 2 3 \r\n",
            "1 2 3 4 \r\n",
            "1 2 3 4 5 \r\n"
          ]
        }
      ]
    }
  ]
}